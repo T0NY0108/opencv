{
 "cells": [
  {
   "cell_type": "markdown",
   "id": "73336bd0",
   "metadata": {},
   "source": [
    "# OpenCV 10 - 이미지 합성하기"
   ]
  },
  {
   "cell_type": "markdown",
   "id": "e0b9cf42",
   "metadata": {},
   "source": [
    "## 이미지 더하기\n",
    "### * img = img1 + img2\n",
    "#### img1과 img2는 동일한 크기의 동일한 데이터 타입이어야 한다.\n",
    "#### 각 픽셀의 더한 값이 255보다 크면 overflow\n",
    "#### 예) 257 => 1 이 됨\n",
    "#### \n",
    "### * cv2.add(img1,img2)\n",
    "#### OpenCV의 add() 함수 이용\n",
    "#### 각 픽셀의 더한 값이 255보다 크면 255로 저장"
   ]
  },
  {
   "cell_type": "code",
   "execution_count": 4,
   "id": "f3f89f84",
   "metadata": {},
   "outputs": [],
   "source": [
    "import cv2\n",
    "import numpy as np\n",
    "\n",
    "img1=cv2.imread('images/img1.jpg')\n",
    "img2=cv2.imread('images/img2.jpg')\n",
    "img1=cv2.resize(img1,(480,320))\n",
    "img2=cv2.resize(img2,(480,320))\n",
    "img=img1+img2\n",
    "img_add=cv2.add(img1,img2)\n",
    "cv2.imshow('img',img)\n",
    "cv2.imshow('img_add',img_add)\n",
    "cv2.waitKey(0)\n",
    "cv2.destroyAllWindows()"
   ]
  },
  {
   "cell_type": "markdown",
   "id": "822fb5b9",
   "metadata": {},
   "source": [
    "## 이미지 블렌딩\n",
    "### * cv2.addWeighted(img1, 가중치1, img2, 가중치2, 덧셈에 추가하는 값)\n",
    "#### 가중치1+가중치2 = 1"
   ]
  },
  {
   "cell_type": "code",
   "execution_count": 5,
   "id": "934e6031",
   "metadata": {},
   "outputs": [],
   "source": [
    "import cv2\n",
    "import numpy as np\n",
    "\n",
    "img1=cv2.imread('images/img1.jpg')\n",
    "img2=cv2.imread('images/img2.jpg')\n",
    "img1=cv2.resize(img1,(480,320))\n",
    "img2=cv2.resize(img2,(480,320))\n",
    "img=cv2.addWeighted(img1,0.5,img2,0.5,0)\n",
    "cv2.imshow('img',img)\n",
    "cv2.waitKey(0)\n",
    "cv2.destroyAllWindows()"
   ]
  },
  {
   "cell_type": "markdown",
   "id": "1b05f47c",
   "metadata": {},
   "source": [
    "## 트랙바를 이용한 이미지 블렌딩"
   ]
  },
  {
   "cell_type": "code",
   "execution_count": 1,
   "id": "4aa8f5ca",
   "metadata": {},
   "outputs": [],
   "source": [
    "import cv2\n",
    "import numpy as np\n",
    "\n",
    "def callback(x):\n",
    "    pass\n",
    "\n",
    "img1=cv2.imread('images/img1.jpg')\n",
    "img2=cv2.imread('images/img2.jpg')\n",
    "img1=cv2.resize(img1,(480,320))\n",
    "img2=cv2.resize(img2,(480,320))\n",
    "\n",
    "cv2.namedWindow('img')\n",
    "cv2.createTrackbar('Mixing','img',0,100,callback)\n",
    "\n",
    "while True:\n",
    "    mix=cv2.getTrackbarPos('Mixing','img')\n",
    "\n",
    "    img=cv2.addWeighted(img1,float(100-mix)/100,img2,float(mix)/100, 0)\n",
    "    cv2.imshow('img',img)\n",
    "    \n",
    "    key=cv2.waitKey(1)\n",
    "    if key==ord('q'):\n",
    "        break\n",
    "cv2.waitKey(0)\n",
    "cv2.destroyAllWindows()"
   ]
  },
  {
   "cell_type": "markdown",
   "id": "5d17fbbb",
   "metadata": {},
   "source": [
    "## 로고를 이미지에 삽입하기"
   ]
  },
  {
   "cell_type": "code",
   "execution_count": 18,
   "id": "82b54528",
   "metadata": {},
   "outputs": [],
   "source": [
    "import cv2\n",
    "import numpy as np\n",
    "\n",
    "logo=cv2.imread('images/logo.jpg')\n",
    "logo=cv2.resize(logo,(100,100))\n",
    "mask=cv2.inRange(logo,(100,0,0),(255,50,50))\n",
    "mask_inv=cv2.bitwise_not(mask)\n",
    "\n",
    "logo_img=cv2.bitwise_and(logo,logo,mask)\n",
    "\n",
    "cap=cv2.VideoCapture(0)\n",
    "\n",
    "while True:\n",
    "    ret, frame = cap.read()\n",
    "    \n",
    "    if ret:\n",
    "        frame_crop=frame[30:130,30:130]\n",
    "        frame_crop=cv2.bitwise_and(frame_crop,frame_crop,mask_inv)\n",
    "        \n",
    "        frame_crop+=logo_img\n",
    "        \n",
    "        frame[30:130,30:130]=frame_crop\n",
    "        cv2.imshow('webcam',frame)\n",
    "\n",
    "        key=cv2.waitKey(1)\n",
    "        if key==ord('q'):\n",
    "            break\n",
    "\n",
    "cap.release()\n",
    "cv2.waitKey(0)\n",
    "cv2.destroyAllWindows()"
   ]
  },
  {
   "cell_type": "code",
   "execution_count": null,
   "id": "6604372c",
   "metadata": {},
   "outputs": [],
   "source": []
  }
 ],
 "metadata": {
  "kernelspec": {
   "display_name": "Python 3",
   "language": "python",
   "name": "python3"
  },
  "language_info": {
   "codemirror_mode": {
    "name": "ipython",
    "version": 3
   },
   "file_extension": ".py",
   "mimetype": "text/x-python",
   "name": "python",
   "nbconvert_exporter": "python",
   "pygments_lexer": "ipython3",
   "version": "3.7.10"
  }
 },
 "nbformat": 4,
 "nbformat_minor": 5
}
