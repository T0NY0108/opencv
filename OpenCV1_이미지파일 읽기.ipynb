{
 "cells": [
  {
   "cell_type": "markdown",
   "id": "fa1c9c02",
   "metadata": {},
   "source": [
    "# OpenCV 1 - 이미지파일 읽기\n",
    "#### Open CV는 라이브러리 중 하나로서 영상 처리 또는 영상 인식 관련 소스들을 모아 놓은 라이브러리\n",
    "#### Intel에서 2000년에 수학적인 기능들과 영상 처리 관련 기능들을 라이브러리로 제작하여 공개"
   ]
  },
  {
   "cell_type": "markdown",
   "id": "825c71f7",
   "metadata": {},
   "source": [
    "### * OpenCV 설치\n",
    "\n",
    "#### 1) 명령 프롬프트에서 파이썬이 설치된 디렉터리에서 pip 업그레이드\n",
    "####   => python -m pip install --upgrade pip\n",
    " \n",
    "#### 2) opencv-python과 opencv-contrib-python 설치\n",
    "####   => python -m pip install opencv-python\n",
    "####   => python -m pip install opencv-contrib-python\n",
    " \n",
    "#### 3) OpenCV 버전 확인(파이썬)\n",
    "####   => import cv2\n",
    "####        cv2.__version__\n"
   ]
  },
  {
   "cell_type": "code",
   "execution_count": 1,
   "id": "2465a111",
   "metadata": {},
   "outputs": [
    {
     "data": {
      "text/plain": [
       "'4.5.3'"
      ]
     },
     "execution_count": 1,
     "metadata": {},
     "output_type": "execute_result"
    }
   ],
   "source": [
    "import cv2 \n",
    "cv2.__version__"
   ]
  },
  {
   "cell_type": "markdown",
   "id": "dc34e861",
   "metadata": {},
   "source": [
    "## * 그림 불러오기\n",
    "####   cv2.imread(\"파일이름\")\n",
    "####   cv2.imread(\"파일경로/파일이름\")  <= 파일이 다른 경로에 있을 때\n",
    "####   cv2.imread(\"파일경로/파일이름\",파일읽는방식)\n",
    "####   - 불러온 결과물은 3차원 배열로 저장됨 =>  [x축, y축, color]\n",
    "#### \n",
    "####   - 파일 읽는 방식 : flags 값, 없으면 IMREAD_COLOR 기본 설정\n",
    "####  1) cv2.IMREAD_COLOR  - color 이미지(1), RGB 3채널로 변경\n",
    "####  2) cv2.IMREAD_GRAYSCALE - gray scale 이미지(0)\n",
    "####  3) cv2.IMREAD_UNCHANGED - 원본이미지 그대로(-1), 투명한 png 파일에서 alpha channel 까지 포함 읽어올 수 있음\n",
    "####  4) 이외 : ANYDEPTH, ANYCOLOR, LOAD_GDAL, REDUCED_GRAYSCALE_2(or 4 or 8), REDUCED_COLOR_2(or 4 or 8)\n",
    "#### \n",
    "## * 그림창 생성\n",
    "####   cv2.namedWindow('창이름', flags) : default 값이 없으면 AUTOSIZE 기본 적용됨 \n",
    "####   cv2.namedWindow('창이름', cv2.WINDOW_NORMAL) : 원본이미지 크기의 창 생성(창크기 조절 가능), 이미지 클 때 사용\n",
    "####   cv2.namedWindow('창이름', cv2.WINDOW_AUTOSIZE) : 원본이미지 크기로 고정하여 창생성\n",
    "#### \n",
    "#### \n",
    "## * 그림 출력하기\n",
    "####   cv2.imshow('창이름', 출력할 이미지 객체)\n",
    "####   - 출력할 때 imshow() 와 함께 cv2.waitKey() 도 함께 사용하여야 한다. 사용하지 않으면 출력하고 바로 사라짐\n",
    "####   cv2.waitKey(시간) \n",
    "####   - 시간은 ms 단위이며 0은 키입력을 무한정 기다림\n",
    "####   - 3초 후에 자동으로 꺼지게 하고 싶을 때 : cv2.waitKey(3000)\n",
    "#### \n",
    "## * 윈도우 창 제거\n",
    "####   cv2.destroyWindow(\"창이름\") : 특정 윈도우창 닫을 때 사용\n",
    "####   cv2.destroyAllWindows() : 모든 작업이 끝났을 때 모든 윈도우 창 제거시 사용"
   ]
  },
  {
   "cell_type": "code",
   "execution_count": 41,
   "id": "ccc084e8",
   "metadata": {},
   "outputs": [],
   "source": [
    "import cv2\n",
    "\n",
    "img=cv2.imread(\"images/dog.JPeG\",1)\n",
    "\n",
    "#cv2.namedWindow(\"image\")\n",
    "cv2.namedWindow(\"image\",cv2.WINDOW_NORMAL)\n",
    "\n",
    "cv2.imshow(\"image\",img)  \n",
    "\n",
    "cv2.waitKey(0)  \n",
    "#cv2.waitKey(3000)\n",
    "\n",
    "cv2.destroyAllWindows()  "
   ]
  },
  {
   "cell_type": "markdown",
   "id": "497e31a0",
   "metadata": {},
   "source": [
    "## * 윈도우 크기 지정(변경)\n",
    "#### cv2.resizeWindow(\"창이름\", width= , height= )\n",
    "#### flags 값은 WINDOW_NORMAL로 설정\n",
    "#### Tips, 이미지 클 때 유용"
   ]
  },
  {
   "cell_type": "code",
   "execution_count": 5,
   "id": "33d5de00",
   "metadata": {},
   "outputs": [],
   "source": [
    "import cv2\n",
    "\n",
    "img=cv2.imread(\"images/friends.jpeg\",1)\n",
    "\n",
    "#cv2.namedWindow(\"image\")\n",
    "cv2.namedWindow(\"image\",cv2.WINDOW_NORMAL)\n",
    "\n",
    "cv2.resizeWindow(\"image\",300,200)\n",
    "\n",
    "cv2.imshow(\"image\",img)  \n",
    "\n",
    "cv2.waitKey(0)  \n",
    "cv2.destroyAllWindows()  "
   ]
  },
  {
   "cell_type": "markdown",
   "id": "e4e6a586",
   "metadata": {},
   "source": [
    "## * 윈도우 위치 설정\n",
    "#### cv2.moveWindow(\"창이름\", x= , y= )\n",
    "#### 이미지가 윈도우 화면을 벗어났을 때 유용 "
   ]
  },
  {
   "cell_type": "code",
   "execution_count": 6,
   "id": "9f254761",
   "metadata": {},
   "outputs": [],
   "source": [
    "import cv2\n",
    "\n",
    "img=cv2.imread(\"images/friends.jpeg\",1)\n",
    "\n",
    "#cv2.namedWindow(\"image\")\n",
    "cv2.namedWindow(\"image\",cv2.WINDOW_NORMAL)\n",
    "\n",
    "cv2.resizeWindow(\"image\",600,400)\n",
    "\n",
    "cv2.moveWindow(\"image\", 400,100)\n",
    "\n",
    "cv2.imshow(\"image\",img)  \n",
    "\n",
    "cv2.waitKey(0)  \n",
    "cv2.destroyAllWindows()  "
   ]
  },
  {
   "cell_type": "markdown",
   "id": "2607eea1",
   "metadata": {},
   "source": [
    "## * 이미지 속성 확인\n",
    "#### image.shape => height, width, channel\n",
    "#### - 높이, 너비, 채널의 값으로 저장됨\n",
    "#### - 채널 : 이미지의 색상 정보, 1(단색), 3(다색)\n",
    "#### \n",
    "## * 픽셀 색상 변경\n",
    "#### 이미지객체[y좌표, x좌표] = [blue,green,red] \n",
    "#### 예) img[100,200]=[0,255,255]  - 0~255 사이의 값\n",
    "#### item, itemset 사용하면 편리함\n",
    "#### img.item(y,x,채널0~2) : [x, y] 픽셀 채널 색상 읽어옴\n",
    "#### img.itemset(y,x,채널, 0~255) : [x, y] 픽셀 채널 값 변경\n",
    "#### 채널0 blue, 채널1 green, 채널2 red"
   ]
  },
  {
   "cell_type": "code",
   "execution_count": 7,
   "id": "ff924714",
   "metadata": {},
   "outputs": [],
   "source": [
    "import numpy as np\n",
    "import cv2 as cv\n",
    "\n",
    "img=cv.imread(\"images/friends.jpeg\")\n",
    "height=img.shape[0]  \n",
    "width=img.shape[1]\n",
    "\n",
    "for y in range(0,height):  # x축 중간을 빨간색으로\n",
    "    img.itemset(y,int(width/2),0,0)\n",
    "    img.itemset(y,int(width/2),1,0)\n",
    "    img.itemset(y,int(width/2),2,255)\n",
    "for x in range(0,width):   # y축 중간을 파란색으로\n",
    "    img.itemset(int(height/2),x,0,255)\n",
    "    img.itemset(int(height/2),x,1,0)\n",
    "    img.itemset(int(height/2),x,2,0)\n",
    "    \n",
    "cv.imshow('win',img)\n",
    "\n",
    "cv.waitKey(0)\n",
    "cv.destroyAllWindows()"
   ]
  },
  {
   "cell_type": "markdown",
   "id": "2dd920c1",
   "metadata": {},
   "source": [
    "<img src=\"img/rgb채널.JPG\" width=200px>"
   ]
  },
  {
   "cell_type": "markdown",
   "id": "d8e1377d",
   "metadata": {},
   "source": [
    "## * 슬라이싱을 사용해 원하는 이미지만 읽기"
   ]
  },
  {
   "cell_type": "code",
   "execution_count": 8,
   "id": "f22db671",
   "metadata": {},
   "outputs": [],
   "source": [
    "import cv2\n",
    "import numpy as np\n",
    "\n",
    "img=cv2.imread(\"images/cat.jpeg\")\n",
    "img2=img[300:600,600:1200]\n",
    "cv2.imshow('image2',img2)\n",
    "cv2.imshow('image',img)\n",
    "cv2.waitKey()\n",
    "cv2.destroyAllWindows()"
   ]
  },
  {
   "cell_type": "code",
   "execution_count": null,
   "id": "2acab22b",
   "metadata": {},
   "outputs": [],
   "source": []
  },
  {
   "cell_type": "code",
   "execution_count": null,
   "id": "f3ebd21b",
   "metadata": {},
   "outputs": [],
   "source": []
  }
 ],
 "metadata": {
  "kernelspec": {
   "display_name": "Python 3",
   "language": "python",
   "name": "python3"
  },
  "language_info": {
   "codemirror_mode": {
    "name": "ipython",
    "version": 3
   },
   "file_extension": ".py",
   "mimetype": "text/x-python",
   "name": "python",
   "nbconvert_exporter": "python",
   "pygments_lexer": "ipython3",
   "version": "3.7.10"
  }
 },
 "nbformat": 4,
 "nbformat_minor": 5
}
