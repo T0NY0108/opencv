{
 "cells": [
  {
   "cell_type": "markdown",
   "id": "b9596e13",
   "metadata": {},
   "source": [
    "# OpenCV 2 - 이미지파일 저장\n",
    "\n",
    "## * 키입력 받기\n",
    "#### 변수명= cv2.waitKey()\n",
    "#### \n",
    "## * 특정 키보드 문자로 종료하기\n",
    "#### while True:\n",
    "####     if cv2.waitKey()==ord('q'):\n",
    "####          break\n",
    "\n",
    "## * 이미지 파일 저장하기\n",
    "#### cv2.imwrite(\"파일이름\",저장할 이미지)\n",
    "#### cv2.imwrite(\"파일이름\",저장할 이미지, 압축률(옵션) )\n",
    "####  예) cv2.imwrite(\"new.jpg\",img,params=[cv2.IMWRITE_JPEG_QUALITY,90])"
   ]
  },
  {
   "cell_type": "code",
   "execution_count": null,
   "id": "7b463da6",
   "metadata": {},
   "outputs": [],
   "source": [
    "import cv2 as cv\n",
    "import numpy as np\n",
    "\n",
    "img=cv.imread(\"images/cat.jpeg\")\n",
    "#img_gray=cv.imread(\"images/cat.jpeg\",0)\n",
    "cv.namedWindow(\"img\",cv.WINDOW_NORMAL)\n",
    "cv.imshow(\"img\",img)\n",
    "\n",
    "key_in=cv.waitKey(0)  # 키보드 입력 - 아스키코드 값으로 저장 \n",
    "if key_in==ord('q'):  # ord(문자) => 아스키코드 값으로 변환\n",
    "    cv.destroyAllWindows()\n",
    "elif key_in==ord('s'):\n",
    "    cv.imwrite(\"new_img.jpg\",img)\n",
    "    cv.destroyAllWindows()\n",
    "#elif key_in==ord('g'):\n",
    "#    cv.imwrite(\"new_img_gray.jpg\",img_gray)\n",
    "#    cv.destroyAllWindows()"
   ]
  },
  {
   "cell_type": "markdown",
   "id": "1d3829f4",
   "metadata": {},
   "source": [
    "## * 컬러 변경\n",
    "#### cv2.cvtColor(image, code)\n",
    "#### - 영상 색상\n",
    "#### 1) RGB - Red, Green, Blue 빛의 삼원색 이용\n",
    "#### 2) HSV - 색, 채도, 명도를 이용한 색상\n",
    "#### 3) grayscale - 흑백\n",
    "#### - 사용 방법\n",
    "#### BGR2Gray,  BGR2HSV\n",
    "#### 예) cv2.cvtColor(image, cv2.COLOR_BGR2GRAY)"
   ]
  },
  {
   "cell_type": "markdown",
   "id": "860bc25a",
   "metadata": {},
   "source": [
    "RGB Cube<img src=\"img/RGBCube.png\" width=200px>HSV<img src=\"img/HSV_cylinder.jpg\" width=200px>H값에 따른 색상<img src=\"img/hsv_color.jpg\" width=280px>"
   ]
  },
  {
   "cell_type": "code",
   "execution_count": 1,
   "id": "50c121e7",
   "metadata": {},
   "outputs": [],
   "source": [
    "import cv2 as cv\n",
    "import numpy as np\n",
    "\n",
    "img=cv.imread(\"images/cat.jpeg\")\n",
    "cv.namedWindow(\"img\",cv.WINDOW_NORMAL)\n",
    "cv.imshow(\"img\",img)\n",
    "\n",
    "key_in=cv.waitKey(0)   \n",
    "if key_in==ord('q'):  \n",
    "    cv.destroyAllWindows()\n",
    "elif key_in==ord('s'):\n",
    "    cv.imwrite(\"new_img.jpg\",img)\n",
    "    cv.destroyAllWindows()\n",
    "elif key_in==ord('g'):\n",
    "    cv.imwrite(\"new_img_gray.jpg\",cv.cvtColor(img, cv.COLOR_BGR2GRAY))\n",
    "    cv.destroyAllWindows()"
   ]
  },
  {
   "cell_type": "markdown",
   "id": "e17aff3d",
   "metadata": {},
   "source": [
    "## * 이미지 반전\n",
    "#### ~img : 픽셀값 반전으로 이미지 반전 효과"
   ]
  },
  {
   "cell_type": "code",
   "execution_count": 1,
   "id": "9bd62dc2",
   "metadata": {},
   "outputs": [],
   "source": [
    "import cv2 as cv\n",
    "import numpy as np\n",
    "\n",
    "img=cv.imread(\"images/cat.jpeg\")\n",
    "cv.namedWindow(\"img\",cv.WINDOW_NORMAL)\n",
    "cv.imshow(\"img\",img)\n",
    "\n",
    "key_in=cv.waitKey(0) \n",
    "if key_in==ord('q'): \n",
    "    cv.destroyAllWindows()\n",
    "elif key_in==ord('s'):\n",
    "    cv.imwrite(\"new_img.jpg\",img)\n",
    "    cv.destroyAllWindows()\n",
    "elif key_in==ord('t'):\n",
    "    cv.imwrite(\"new_img_togle.jpg\",~img)\n",
    "    cv.destroyAllWindows()"
   ]
  },
  {
   "cell_type": "code",
   "execution_count": null,
   "id": "bc126f80",
   "metadata": {},
   "outputs": [],
   "source": []
  }
 ],
 "metadata": {
  "kernelspec": {
   "display_name": "Python 3",
   "language": "python",
   "name": "python3"
  },
  "language_info": {
   "codemirror_mode": {
    "name": "ipython",
    "version": 3
   },
   "file_extension": ".py",
   "mimetype": "text/x-python",
   "name": "python",
   "nbconvert_exporter": "python",
   "pygments_lexer": "ipython3",
   "version": "3.7.10"
  }
 },
 "nbformat": 4,
 "nbformat_minor": 5
}
