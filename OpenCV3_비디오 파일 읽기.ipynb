{
 "cells": [
  {
   "cell_type": "markdown",
   "id": "c52f76f2",
   "metadata": {},
   "source": [
    "# OpenCV 3 - 비디오 파일 읽기\n",
    "\n",
    "#### * 비디오 파일 읽기 - VideoCapture()\n",
    "#### 1) cv2.VideoCapture(\"동영상 파일 경로\")\n",
    "#### 2) cv2.VideoCapture(숫자)   <= 숫자는 컴퓨터에 있는 웹캠 순서를 의미, 0,1,2....\n",
    "#### \n",
    "#### * 비디오 속성 변경 - set(속성,값)\n",
    "#### - 속성 3 : width(폭)         ex) cap.set(3,480)\n",
    "#### - 속성 4 : height(높이)    ex) cap.set(4,320)\n",
    "#### \n",
    "#### * 비디오 이미지프레임 캡쳐 - read()\n",
    "#### - 영상 프레임을 읽었다면 ret= True, 실패했다면 ret= False\n",
    "#### - frame 변수에 이미지 저장\n",
    "#### \n",
    "#### * 이미지 크기 변경 - resize(이미지, (가로, 세로), fx= , fy= , interpolation=보간법 )\n",
    "#### - fx : x 사이즈 비율(비율값을 원하지 않는다면 원하는 가로 크기/img.shape[1])\n",
    "#### - fy : y 사이즈 비율(비율값을 원하지 않는다면 원하는 세로 크기/img.shape[0])\n",
    "#### - interpolation : resize 할 때 사용하는 보간법\n",
    "####   1) INTER_AREA : 픽셀영역 관계를 이용한 resampleing방법 원래 크기보다 줄여줄 때 유용\n",
    "####   2) INTER_LINEAR : (default value) bilinear\n",
    "####   3) INTER_NEAREST : nearest_neighbor(size 크게할 때)\n",
    "####   4) INTER_CUBIC : 4X4 픽셀에 적용\n",
    "####   5) INTER_LANCZOS4 : 8X8 픽셀에 적용\n",
    "#### - 예1) cv2.resize(frame,(480,320))\n",
    "#### - 예2) cv2.resize(frame, None, fx=0.5, fy=1, interpolation=cv2.INTER_AREA)\n",
    "#### \n",
    "#### * 이미지 출력 - imshow('영상이름',frame)\n",
    "#### \n",
    "#### * 영상 닫기 - release()"
   ]
  },
  {
   "cell_type": "code",
   "execution_count": null,
   "id": "fb324cb5",
   "metadata": {},
   "outputs": [],
   "source": [
    "# 비디오 파일 불러오기\n",
    "import cv2\n",
    "\n",
    "cap=cv2.VideoCapture(\"video/ex1.mp4\")\n",
    "\n",
    "while cap.isOpened():\n",
    "    ret, frame = cap.read()  \n",
    "    frame=cv2.resize(frame,(480,320))\n",
    "\n",
    "    if ret:\n",
    "        cv2.imshow('video',frame)\n",
    "        \n",
    "        key=cv2.waitKey(1)   # 1ms 단위로 키값 확인\n",
    "        if key==ord('q'):\n",
    "            break\n",
    "    else:\n",
    "        break\n",
    "        \n",
    "cap.release()  # 비디오 파일 또는 캡쳐 장치를 닫는 명령어\n",
    "cv2.destroyAllWindows()  # 창 닫기"
   ]
  },
  {
   "cell_type": "markdown",
   "id": "4c0ecb9c",
   "metadata": {},
   "source": [
    "#### 카메라 영상 불러오기 "
   ]
  },
  {
   "cell_type": "code",
   "execution_count": 1,
   "id": "52bcf478",
   "metadata": {},
   "outputs": [],
   "source": [
    "import cv2\n",
    "\n",
    "cap=cv2.VideoCapture(0)\n",
    "\n",
    "while True:\n",
    "    ret, frame = cap.read()\n",
    "    \n",
    "    if ret:\n",
    "        cv2.imshow('webcam',frame)\n",
    "        \n",
    "        key=cv2.waitKey(1)\n",
    "        if key==ord(' '):\n",
    "            break\n",
    "\n",
    "cap.release()\n",
    "cv2.destroyAllWindows()"
   ]
  },
  {
   "cell_type": "markdown",
   "id": "af4f727e",
   "metadata": {},
   "source": [
    "#### 흑백 영상으로 변환"
   ]
  },
  {
   "cell_type": "code",
   "execution_count": 2,
   "id": "35932007",
   "metadata": {},
   "outputs": [],
   "source": [
    "import cv2\n",
    "\n",
    "cap=cv2.VideoCapture(0)\n",
    "\n",
    "while True:\n",
    "    ret, frame = cap.read()\n",
    "    frame=cv2.cvtColor(frame,cv2.COLOR_BGR2GRAY)\n",
    "    if ret:\n",
    "        cv2.imshow('webcam',frame)\n",
    "        \n",
    "        key=cv2.waitKey(1)\n",
    "        if key==ord(' '):\n",
    "            break\n",
    "\n",
    "cap.release()\n",
    "cv2.destroyAllWindows()"
   ]
  },
  {
   "cell_type": "code",
   "execution_count": null,
   "id": "3c81acec",
   "metadata": {},
   "outputs": [],
   "source": []
  }
 ],
 "metadata": {
  "kernelspec": {
   "display_name": "Python 3",
   "language": "python",
   "name": "python3"
  },
  "language_info": {
   "codemirror_mode": {
    "name": "ipython",
    "version": 3
   },
   "file_extension": ".py",
   "mimetype": "text/x-python",
   "name": "python",
   "nbconvert_exporter": "python",
   "pygments_lexer": "ipython3",
   "version": "3.7.10"
  }
 },
 "nbformat": 4,
 "nbformat_minor": 5
}
