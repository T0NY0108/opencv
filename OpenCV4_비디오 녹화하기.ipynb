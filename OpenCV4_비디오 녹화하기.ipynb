{
 "cells": [
  {
   "cell_type": "markdown",
   "id": "45cf933f",
   "metadata": {},
   "source": [
    "# OpenCV 4 - 비디오 녹화하기\n",
    "\n",
    "#### * 비디오 저장 위한 객체 생성\n",
    "####  cv2.VideoWriter(파일명,코덱정보,프레임수,사이즈)\n",
    "####  cv2.VideoWriter(outputFile,fourcc,frame,size)\n",
    "#### \n",
    "#### * 영상 속성 읽어오기\n",
    "####  cap.get(속성)  <= 3: width, 4: height\n",
    "#### \n",
    "#### * 코덱정보 설정\n",
    "####  cv2.VideoWriter_fourcc(*'DIVX')  또는\n",
    "####  cv2.VideoWriter_fourcc('D','I','V','X')\n",
    "#### \n",
    "#### * 프레임 저장\n",
    "####  비디오객체.write(frame)\n",
    "#### \n",
    "#### * 녹화영상 닫기\n",
    "####  비디오객체.release()"
   ]
  },
  {
   "cell_type": "code",
   "execution_count": 1,
   "id": "0c522ba0",
   "metadata": {},
   "outputs": [
    {
     "name": "stdout",
     "output_type": "stream",
     "text": [
      "녹화 종료\n"
     ]
    }
   ],
   "source": [
    "import cv2\n",
    "\n",
    "cap=cv2.VideoCapture(0)\n",
    "\n",
    "width=int(cap.get(3))\n",
    "height=int(cap.get(4))\n",
    "fourcc=cv2.VideoWriter_fourcc(*'DIVX')\n",
    "\n",
    "out=cv2.VideoWriter('SaveVideo.mp4',fourcc,20.0,(width,height))\n",
    "\n",
    "while True:\n",
    "    ret,frame=cap.read()\n",
    "    \n",
    "    if not ret:\n",
    "        break\n",
    "    \n",
    "    cv2.imshow('Video',frame)\n",
    "    out.write(frame)\n",
    "    \n",
    "    key=cv2.waitKey(1)\n",
    "    if key==ord('q'):\n",
    "        print('녹화 종료')\n",
    "        break\n",
    "cap.release()\n",
    "out.release()\n",
    "cv2.destroyAllWindows()"
   ]
  },
  {
   "cell_type": "code",
   "execution_count": null,
   "id": "d957846c",
   "metadata": {},
   "outputs": [],
   "source": []
  }
 ],
 "metadata": {
  "kernelspec": {
   "display_name": "Python 3",
   "language": "python",
   "name": "python3"
  },
  "language_info": {
   "codemirror_mode": {
    "name": "ipython",
    "version": 3
   },
   "file_extension": ".py",
   "mimetype": "text/x-python",
   "name": "python",
   "nbconvert_exporter": "python",
   "pygments_lexer": "ipython3",
   "version": "3.7.10"
  }
 },
 "nbformat": 4,
 "nbformat_minor": 5
}
