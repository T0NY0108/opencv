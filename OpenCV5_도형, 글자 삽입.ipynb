{
 "cells": [
  {
   "cell_type": "markdown",
   "id": "0bb1cc6f",
   "metadata": {},
   "source": [
    "# OpenCV 5 - 도형그리기"
   ]
  },
  {
   "cell_type": "markdown",
   "id": "c444624a",
   "metadata": {},
   "source": [
    "## 선 그리기\n",
    "#### cv2.line(img, start, end, color, thickness)\n",
    "#### - img : 그림 그릴 이미지 파일\n",
    "#### - start : 선이 시작되는 좌표 ( x, y )\n",
    "#### - end : 선이 끝나는 좌표 ( x, y )\n",
    "#### - color : BGR 순서 색상값 (0,0,0) ~ (255,255,255)\n",
    "#### - thickness : 선 두께, pixel 값(정수)"
   ]
  },
  {
   "cell_type": "code",
   "execution_count": 1,
   "id": "88a6fbb4",
   "metadata": {},
   "outputs": [],
   "source": [
    "import cv2\n",
    "import numpy as np\n",
    "\n",
    "# np.zeros() 라는 함수는 512x512 사이즈의 검은화면을 생성하는 함수\n",
    "img = np.zeros((512,512,3), np.uint8)\n",
    "\n",
    "# 위에서 만든 512x512 의 검은화면에 0,0 부터 511,511의 좌표까지 파란색의 선을\n",
    "# 두께 5의 크기로 그린다.\n",
    "# 여기서 색상인 (255,0,0) 에 대해서는 RGB가 아닌 BGR 순서임.\n",
    "img = cv2.line(img,(0,0),(511,511),(255,0,0),5)\n",
    "\n",
    "# 그려진 파일을 보여준다\n",
    "cv2.imshow('line',img)\n",
    "\n",
    "# 키입력이 있을때까지 대기\n",
    "cv2.waitKey(0)\n",
    "\n",
    "# 윈도창 종료.\n",
    "cv2.destroyAllWindows()\n",
    "\n"
   ]
  },
  {
   "cell_type": "markdown",
   "id": "ae9e9be7",
   "metadata": {},
   "source": [
    "## 원 그리기\n",
    "#### cv2.circle(img, center, radian, color, thickness)\n",
    "#### - center : 원의 중심좌표, ( x, y )\n",
    "#### - radian : 원의 반지름, pixel 값(정수)\n",
    "#### - thickness : 선 두께, -1이면 원의 속을 채움"
   ]
  },
  {
   "cell_type": "code",
   "execution_count": 27,
   "id": "4b19ec97",
   "metadata": {},
   "outputs": [],
   "source": [
    "import cv2\n",
    "import numpy as np\n",
    "\n",
    "img = np.zeros((512,512,3), np.uint8)\n",
    "\n",
    "img = cv2.circle(img,(255,255),50,(0,0,255),-1)\n",
    "\n",
    "cv2.imshow('circle',img)\n",
    "\n",
    "cv2.waitKey(0)\n",
    "cv2.destroyAllWindows()"
   ]
  },
  {
   "cell_type": "markdown",
   "id": "4a52d0cb",
   "metadata": {},
   "source": [
    "## 사각형 그리기\n",
    "#### cv2.rectangle(img, start, end, color, thickness)\n",
    "#### - start : 사각형 시작좌표\n",
    "#### - end : 사각형 종료좌표"
   ]
  },
  {
   "cell_type": "code",
   "execution_count": 29,
   "id": "c69731b6",
   "metadata": {},
   "outputs": [],
   "source": [
    "import cv2\n",
    "import numpy as np\n",
    "\n",
    "img = np.zeros((512,512,3), np.uint8)\n",
    "\n",
    "img = cv2.rectangle(img,(100,100),(400,200),(0,255,0),-1)\n",
    "\n",
    "cv2.imshow('rectangle',img)\n",
    "\n",
    "cv2.waitKey(0)\n",
    "cv2.destroyAllWindows()"
   ]
  },
  {
   "cell_type": "markdown",
   "id": "f5000265",
   "metadata": {},
   "source": [
    "## 타원 그리기\n",
    "#### cv2.ellipse(img, center, axes, angle, startAngle, endAngle, color, thickness)\n",
    "#### - center : 타원의 중심좌표\n",
    "#### - axes : 각도가 0일 때 중심에서 타원과의 x, y축으로 떨어진 거리, ( x, y )\n",
    "#### - angle : 타원 각도\n",
    "#### - startAngle : 타원의 시작 각도, (+x,0)부터 시계방향\n",
    "#### - endAngle : 타원의 종료 각도"
   ]
  },
  {
   "cell_type": "code",
   "execution_count": 36,
   "id": "0ca197ad",
   "metadata": {},
   "outputs": [],
   "source": [
    "import cv2\n",
    "import numpy as np\n",
    "\n",
    "img = np.zeros((512,512,3), np.uint8)\n",
    "\n",
    "img = cv2.ellipse(img,(0,255),(100,50),90,210,330,(255,255,0),-1)\n",
    "\n",
    "cv2.imshow('ellipse',img)\n",
    "\n",
    "cv2.waitKey(0)\n",
    "cv2.destroyAllWindows()"
   ]
  },
  {
   "cell_type": "markdown",
   "id": "fcdd81fe",
   "metadata": {},
   "source": [
    "## 다각형 그리기\n",
    "#### cv2.polylines(img, pts, isClosed, color, thickness) : 선만 있는 다각형\n",
    "#### cv2.fillPoly(img, pts, color, thickness) : 색상 채워진 다각형\n",
    "#### - pts : 연결할 꼭지점 좌표, 각 꼭지점을 2차원 numpy행렬로 표시\n",
    "#### - isClosed : 도형의 닫힘 여부, True or False\n",
    "#### - thickness : 두께(정수) 대신 선형 타입을 넣어도 됨\n",
    "##### => 선형 타입 : cv2.FILLED(내부채움), cv2.LINE_4(4점연결), cv2.LINE_8(8점 연결), cv2.LINE_AA(AntiAlias)"
   ]
  },
  {
   "cell_type": "code",
   "execution_count": 56,
   "id": "65027fc4",
   "metadata": {},
   "outputs": [],
   "source": [
    "import cv2\n",
    "import numpy as np\n",
    "\n",
    "img = np.zeros((512,512,3), np.uint8)\n",
    "\n",
    "pts=np.array([[100,100],[200,100],[300,200],[0,200]],np.int32)\n",
    "\n",
    "img = cv2.polylines(img,[pts],True,(0,255,255),3)\n",
    "\n",
    "cv2.imshow('polylines',img)\n",
    "\n",
    "cv2.waitKey(0)\n",
    "cv2.destroyAllWindows()"
   ]
  },
  {
   "cell_type": "markdown",
   "id": "28b21fd8",
   "metadata": {},
   "source": [
    "## 텍스트 삽입\n",
    "#### cv2.putText(img, text, org, font, fontScale, color, thickness)\n",
    "#### - text : 문자열\n",
    "#### - org : 문자열의 위치(문자열의 왼쪽 아래 끝, ( x, y ))\n",
    "#### - font : 폰트 타입\n",
    "##### => FONT_HERSHEY_(SIMPLEX, PLAIN, DUPLEX, COMPLEX, TRIPLEX, COMPLEX_SMALL, SCRIPT_SIMPLEX, SCRIPT_COMPLEX)\n",
    "##### => FONT_ITALIC\n",
    "#### - fontScale : 폰트 크기(정수)"
   ]
  },
  {
   "cell_type": "code",
   "execution_count": 64,
   "id": "904a54d4",
   "metadata": {},
   "outputs": [],
   "source": [
    "import cv2\n",
    "import numpy as np\n",
    "\n",
    "img = np.zeros((512,512,3), np.uint8)\n",
    "\n",
    "img = cv2.putText(img,'Hello OpenCV!',(50,500), cv2.FONT_HERSHEY_SIMPLEX, 2,(255,255,255),3)\n",
    "\n",
    "cv2.imshow('text',img)\n",
    "\n",
    "cv2.waitKey(0)\n",
    "cv2.destroyAllWindows()"
   ]
  },
  {
   "cell_type": "markdown",
   "id": "20b961bb",
   "metadata": {},
   "source": [
    "## 실습 예제 - 웹캠영상 왼쪽 상단에 제목과 중앙에 네모 박스를 넣고 화면을 저장하세요."
   ]
  },
  {
   "cell_type": "code",
   "execution_count": 69,
   "id": "3c26fd12",
   "metadata": {},
   "outputs": [
    {
     "name": "stdout",
     "output_type": "stream",
     "text": [
      "640 480\n",
      "녹화 종료\n"
     ]
    }
   ],
   "source": [
    "import cv2\n",
    "import numpy as np\n",
    "\n",
    "cap= cv2.VideoCapture(0)\n",
    "\n",
    "width=int(cap.get(3))\n",
    "height=int(cap.get(4))\n",
    "print(width,height)\n",
    "fourcc=cv2.VideoWriter_fourcc(*'DIVX')\n",
    "out=cv2.VideoWriter('SaveVideo.mp4',fourcc,24.0,(width,height))\n",
    "\n",
    "while True:\n",
    "    ret,frame=cap.read()\n",
    "    \n",
    "    if not ret:\n",
    "        print(\"비디오 읽기 오류\")\n",
    "        break\n",
    "    frame=cv2.putText(frame,'Hello OpenCV!',(10,50), cv2.FONT_HERSHEY_SIMPLEX, 1,(0,0,0),2)\n",
    "    frame=cv2.rectangle(frame,(240,160),(400,320),(0,0,255),2)\n",
    "    \n",
    "    cv2.imshow('Video',frame)\n",
    "    out.write(frame)\n",
    "    \n",
    "    key=cv2.waitKey(1)\n",
    "    \n",
    "    if key==ord('q'):\n",
    "        print(\"녹화 종료\")\n",
    "        break\n",
    "\n",
    "cap.release()\n",
    "out.release()\n",
    "cv2.destroyAllWindows()"
   ]
  },
  {
   "cell_type": "code",
   "execution_count": null,
   "id": "3ad9e5ea",
   "metadata": {},
   "outputs": [],
   "source": []
  }
 ],
 "metadata": {
  "kernelspec": {
   "display_name": "Python 3",
   "language": "python",
   "name": "python3"
  },
  "language_info": {
   "codemirror_mode": {
    "name": "ipython",
    "version": 3
   },
   "file_extension": ".py",
   "mimetype": "text/x-python",
   "name": "python",
   "nbconvert_exporter": "python",
   "pygments_lexer": "ipython3",
   "version": "3.7.10"
  }
 },
 "nbformat": 4,
 "nbformat_minor": 5
}
