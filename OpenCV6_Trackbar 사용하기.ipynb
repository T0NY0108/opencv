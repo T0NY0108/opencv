{
 "cells": [
  {
   "cell_type": "markdown",
   "id": "2f9fc140",
   "metadata": {},
   "source": [
    "# OpenCV 6 - Trackbar"
   ]
  },
  {
   "cell_type": "markdown",
   "id": "4d03cbab",
   "metadata": {},
   "source": [
    "## Trackbar 만들기\n",
    "#### cv2.createTrackbar(trackbarName, windowName, 트랙바 시작값, 끝값, callback함수)\n",
    "#### - trackbarName :  트랙바 이름\n",
    "#### - windowName : 트랙바를 생성시킬 윈도우 이름\n",
    "#### - 트랙바 초기값 - 정수\n",
    "#### - 트랙바의 마지막 값(최소값은 0)\n",
    "#### - callback함수 : Slide 값이 변경될 때 호출되는 Callback 함수\n",
    "#### \n",
    "## Trackbar 현재위치 반환\n",
    "#### cv2.getTrackbarPos(trackbarName, windowName)\n",
    "#### "
   ]
  },
  {
   "cell_type": "code",
   "execution_count": 12,
   "id": "975933bc",
   "metadata": {},
   "outputs": [],
   "source": [
    "import cv2\n",
    "import numpy as np\n",
    "\n",
    "def callback(x):\n",
    "    pass\n",
    "\n",
    "img=np.zeros((512,512,3),np.uint8)\n",
    "cv2.namedWindow('color_palette')\n",
    "\n",
    "# 최소값 0, 최대값 255인 트랙바 메뉴 3개를 해당 윈도우에 생성\n",
    "cv2.createTrackbar('Blue','color_palette',0,255,callback)\n",
    "cv2.createTrackbar('Green','color_palette',0,255,callback)\n",
    "cv2.createTrackbar('Red','color_palette',0,255,callback)\n",
    "# 색상변경 on/off 트랙바 생성\n",
    "switch='0=OFF\\n1=ON'\n",
    "cv2.createTrackbar(switch,'color_palette',0,1,callback)\n",
    "\n",
    "while True:\n",
    "    cv2.imshow('color_patette',img)\n",
    "    key=cv2.waitKey(1)\n",
    "    if key==ord('q'):\n",
    "        break\n",
    "    \n",
    "    b=cv2.getTrackbarPos('Blue','color_palette')\n",
    "    g=cv2.getTrackbarPos('Green','color_palette')\n",
    "    r=cv2.getTrackbarPos('Red','color_palette')\n",
    "    s=cv2.getTrackbarPos(switch,'color_palette')\n",
    "    \n",
    "    if s==0:\n",
    "        img[:]=0\n",
    "    else:\n",
    "        img[:]=[b,g,r]\n",
    "\n",
    "cv2.destroyAllWindows()"
   ]
  },
  {
   "cell_type": "code",
   "execution_count": null,
   "id": "abe3b8d5",
   "metadata": {},
   "outputs": [],
   "source": []
  },
  {
   "cell_type": "code",
   "execution_count": null,
   "id": "c07a474a",
   "metadata": {},
   "outputs": [],
   "source": []
  }
 ],
 "metadata": {
  "kernelspec": {
   "display_name": "Python 3",
   "language": "python",
   "name": "python3"
  },
  "language_info": {
   "codemirror_mode": {
    "name": "ipython",
    "version": 3
   },
   "file_extension": ".py",
   "mimetype": "text/x-python",
   "name": "python",
   "nbconvert_exporter": "python",
   "pygments_lexer": "ipython3",
   "version": "3.7.10"
  }
 },
 "nbformat": 4,
 "nbformat_minor": 5
}
