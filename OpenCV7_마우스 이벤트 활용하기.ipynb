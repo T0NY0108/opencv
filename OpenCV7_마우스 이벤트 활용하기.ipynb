{
 "cells": [
  {
   "cell_type": "markdown",
   "id": "443c9bfa",
   "metadata": {},
   "source": [
    "# OpenCV 7 - 마우스 이벤트 활용하기"
   ]
  },
  {
   "cell_type": "markdown",
   "id": "bfeb31f1",
   "metadata": {},
   "source": [
    "## * 마우스 이벤트 함수 \n",
    "#### setMouseCallback('윈도우명',callback 함수, param= )\n",
    "#### \n",
    "## * onMouse 함수\n",
    "#### onMouse(event, x, y, flags, param)\n",
    "#### ** event 종류\n",
    "#### - cv2.EVENT_MOUSEMOVE : 마우스 이동할 때 발생\n",
    "#### - cv2.EVENT_L(or R or M)BUTTONDOWN : 왼(오른,가운데)쪽 마우스 버튼 누르고 있을 때 발생\n",
    "#### - cv2.EVENT_L(or R or M)BUTTONUP : 누르고 있던 왼쪽마우스 버튼을 떼면 발생\n",
    "#### - cv2.EVENT_L(or R or M)BUTTONDBLCLK :  왼쪽마우스 버튼 더블 클릭시 발생\n",
    "#### - cv2.EVENT_MOUSEWHEEL :  수직 방향으로 휠 스크롤 시 발생\n",
    "#### - cv2.EVENT_MOUSEHWHEEL : 수평 방향으로 휠 스크룰 시 발생\n",
    "#### ** x , y : 마우스 이벤트가 발생한 x, y 좌표\n",
    "#### ** flags : 마우스 이벤트 발생 시 나타나는 종류\n",
    "#### - cv2.EVENT_FLAG_L(or R or M)BUTTON : 왼쪽 버튼 관련 이벤트 시 발생\n",
    "#### - cv2.EVENT_FLAG CTRLKEY(or SHIFTKEY or ALTKEY) : 마우스 이벤트 중 Ctrl,Shift,Alt 키를 누르고 있으면 발생\n",
    "#### \n",
    "##### - param : 이벤트 발생 시 주고받을 값이 있으면 지정해주는 값"
   ]
  },
  {
   "cell_type": "code",
   "execution_count": null,
   "id": "1ff46a3b",
   "metadata": {},
   "outputs": [],
   "source": [
    "import cv2\n",
    "import numpy as np\n",
    "\n",
    "def draw_rectangle(event,x,y,flags,param):\n",
    "    if event==cv2.EVENT_LBUTTONDBLCLK:\n",
    "        cv2.rectangle(img,(x,y),(x+50,y+50),(255,0,0),-1)\n",
    "                      \n",
    "img=np.zeros((512,512,3),np.uint8)\n",
    "cv2.namedWindow('image')\n",
    "cv2.setMouseCallback('image',draw_rectangle)\n",
    "\n",
    "while True:\n",
    "    cv2.imshow('image',img)\n",
    "    if cv2.waitKey(1) & 0xFF == ord('q'):\n",
    "        break\n",
    "    \n",
    "cv2.destroyAllWindows()\n"
   ]
  },
  {
   "cell_type": "code",
   "execution_count": 2,
   "id": "9daddb49",
   "metadata": {},
   "outputs": [],
   "source": [
    "import cv2\n",
    "import numpy as np\n",
    "\n",
    "def onMouse(event, x, y, flags, param) :\n",
    "    if event == cv2.EVENT_MOUSEMOVE:\n",
    "        if flags & cv2.EVENT_FLAG_LBUTTON :\n",
    "            cv2.circle(img, (x,y), 5, (0,0,255), -1)\n",
    "            cv2.imshow('image', img)\n",
    "\n",
    "img = np.zeros((512,512,3),np.uint8)\n",
    "cv2.imshow('image', img)\n",
    "cv2.setMouseCallback('image', onMouse)\n",
    "cv2.waitKey()\n",
    "cv2.destroyAllWindows()\n"
   ]
  },
  {
   "cell_type": "markdown",
   "id": "23628e37",
   "metadata": {},
   "source": [
    "## 관심영역(ROI)을 마우스로 드래그하여 웹캠 재생하기 "
   ]
  },
  {
   "cell_type": "code",
   "execution_count": 2,
   "id": "f1ba4075",
   "metadata": {},
   "outputs": [],
   "source": [
    "import cv2\n",
    "import numpy as np\n",
    "\n",
    "image=np.zeros((300,400,3),np.uint8)\n",
    "\n",
    "capture=False\n",
    "pt1=()\n",
    "pt2=()\n",
    "\n",
    "def onMouse(event,x,y,flags,param):\n",
    "    global img,image, pt1, pt2, capture\n",
    "    \n",
    "    if event==cv2.EVENT_LBUTTONDOWN:\n",
    "        if capture is False:\n",
    "            capture=True\n",
    "            image=np.zeros((300,400,3),np.uint8)\n",
    "            cv2.imshow(img,image)\n",
    "            pt1=(x,y)\n",
    "            pt2=()\n",
    "    elif event==cv2.EVENT_LBUTTONUP:\n",
    "        if capture is True:\n",
    "            pt2=(x,y)\n",
    "            capture=False\n",
    "        cv2.rectangle(image,pt1,pt2,(0,0,255),3)\n",
    "        cv2.imshow(img,image)\n",
    "        \n",
    "        while True:\n",
    "            ret,frame=cap.read()\n",
    "            if not ret:\n",
    "                break\n",
    "            if cv2.waitKey(1)==ord('q'):\n",
    "                break\n",
    "            \n",
    "            frame=cv2.resize(frame,(pt2[0]-pt1[0],pt2[1]-pt1[1]),cv2.INTER_AREA)\n",
    "            \n",
    "            for i in range(pt1[1],pt2[1]):       # y값 100,200\n",
    "                for j in range(pt1[0],pt2[0]):   # x값 200,300\n",
    "                    image[i][j]=frame[i-pt1[1]][j-pt1[0]]\n",
    "            \n",
    "            cv2.imshow(img,image)\n",
    "\n",
    "cap=cv2.VideoCapture(0)\n",
    "if cap.isOpened()==False:\n",
    "    raise Exception(\"카메라 연결 안됨\")\n",
    "    \n",
    "img=\"ROI Capture\"\n",
    "cv2.imshow(img,image)\n",
    "cv2.setMouseCallback(img,onMouse)\n",
    "cv2.waitKey(0)\n",
    "cap.release()\n",
    "cv2.destroyAllWindows()"
   ]
  },
  {
   "cell_type": "code",
   "execution_count": null,
   "id": "36fc39ce",
   "metadata": {},
   "outputs": [],
   "source": []
  },
  {
   "cell_type": "code",
   "execution_count": null,
   "id": "e38ce8db",
   "metadata": {},
   "outputs": [],
   "source": []
  }
 ],
 "metadata": {
  "kernelspec": {
   "display_name": "Python 3",
   "language": "python",
   "name": "python3"
  },
  "language_info": {
   "codemirror_mode": {
    "name": "ipython",
    "version": 3
   },
   "file_extension": ".py",
   "mimetype": "text/x-python",
   "name": "python",
   "nbconvert_exporter": "python",
   "pygments_lexer": "ipython3",
   "version": "3.7.10"
  }
 },
 "nbformat": 4,
 "nbformat_minor": 5
}
