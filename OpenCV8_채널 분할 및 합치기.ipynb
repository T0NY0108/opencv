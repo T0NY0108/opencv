{
 "cells": [
  {
   "cell_type": "markdown",
   "id": "e4e80ea1",
   "metadata": {},
   "source": [
    "# OpenCV 8 - 채널 분할 및 합치기"
   ]
  },
  {
   "cell_type": "markdown",
   "id": "0571f6df",
   "metadata": {},
   "source": [
    "## * 채널 분할\n",
    "#### cv2.split(이미지파일)\n",
    "#### 분할하여 뿌려진 화면은 하나의 색채널을 갖기 때문에 Grayscale로 보여짐"
   ]
  },
  {
   "cell_type": "code",
   "execution_count": 4,
   "id": "3cb8d9ce",
   "metadata": {},
   "outputs": [],
   "source": [
    "import cv2\n",
    "import numpy as np\n",
    "\n",
    "img=cv2.imread(\"images/friends.jpeg\")\n",
    "img=cv2.resize(img,(480,320))\n",
    "b,g,r=cv2.split(img)\n",
    "cv2.imshow('blue',b)\n",
    "cv2.imshow('green',g)\n",
    "cv2.imshow('red',r)\n",
    "cv2.waitKey(0)\n",
    "cv2.destroyAllWindows()"
   ]
  },
  {
   "cell_type": "markdown",
   "id": "e5814170",
   "metadata": {},
   "source": [
    "## * 채널 합치기\n",
    "#### cv2.merge((Blue, Green, Red))"
   ]
  },
  {
   "cell_type": "code",
   "execution_count": 6,
   "id": "8d77207b",
   "metadata": {},
   "outputs": [],
   "source": [
    "import cv2\n",
    "import numpy as np\n",
    "\n",
    "img=cv2.imread(\"images/friends.jpeg\")\n",
    "img=cv2.resize(img,(480,320))\n",
    "b,g,r=cv2.split(img)\n",
    "\n",
    "img2=cv2.merge((b,g,r))\n",
    "cv2.imshow('img',img2)\n",
    "\n",
    "cv2.waitKey(0)\n",
    "cv2.destroyAllWindows()"
   ]
  },
  {
   "cell_type": "markdown",
   "id": "7dbeffe2",
   "metadata": {},
   "source": [
    "## * Numpy Indexing 방법\n",
    "#### 원하는 채널의 값만 변경가능하여 split보다 유용하게 사용,"
   ]
  },
  {
   "cell_type": "code",
   "execution_count": 11,
   "id": "7b613b3b",
   "metadata": {},
   "outputs": [],
   "source": [
    "import cv2\n",
    "import numpy as np\n",
    "\n",
    "img=cv2.imread(\"images/friends.jpeg\")\n",
    "img=cv2.resize(img,(480,320))\n",
    "\n",
    "img[:,:,0]=0\n",
    "img[:,:,1]=0\n",
    "\n",
    "cv2.imshow('noRed',img)\n",
    "cv2.waitKey(0)\n",
    "cv2.destroyAllWindows()\n"
   ]
  },
  {
   "cell_type": "code",
   "execution_count": null,
   "id": "206220e9",
   "metadata": {},
   "outputs": [],
   "source": []
  }
 ],
 "metadata": {
  "kernelspec": {
   "display_name": "Python 3",
   "language": "python",
   "name": "python3"
  },
  "language_info": {
   "codemirror_mode": {
    "name": "ipython",
    "version": 3
   },
   "file_extension": ".py",
   "mimetype": "text/x-python",
   "name": "python",
   "nbconvert_exporter": "python",
   "pygments_lexer": "ipython3",
   "version": "3.7.10"
  }
 },
 "nbformat": 4,
 "nbformat_minor": 5
}
