{
 "cells": [
  {
   "cell_type": "markdown",
   "id": "e58c18cf",
   "metadata": {},
   "source": [
    "# OpenCV 9 - 색 추적하기"
   ]
  },
  {
   "cell_type": "markdown",
   "id": "ac0ba78f",
   "metadata": {},
   "source": [
    "## * HSV 색상으로 색 추적하기 \n",
    "#### 색구성으로는 RGB 방식이 이해하기 편하지만, 색추적과 같은 특정 색상 추출에 대한 프로그래밍에서는 HSV 방식이 더 유용하다.\n"
   ]
  },
  {
   "cell_type": "markdown",
   "id": "3e42d5f2",
   "metadata": {},
   "source": [
    "HSV<img src=\"img/HSV_cylinder.jpg\" width=200px>H값에 따른 색상<img src=\"img/hsv_color.jpg\" width=280px>"
   ]
  },
  {
   "cell_type": "markdown",
   "id": "af3e37b4",
   "metadata": {},
   "source": [
    "## - cv2.inRange(src, lowerb, upperb, dst=None)\n",
    "#### src : 입력행렬\n",
    "#### lowerb : 하한 값 행렬 또는 스칼라\n",
    "#### upperb : 상한 값 행렬 또는 스칼라\n",
    "#### dst : 입력 영상과 같은 크기의 마스크 영상\n",
    "#### 결과 : 범위 안에 들어가는 픽셀은 255(흰색), 나머지는 0(검은색)으로 설정"
   ]
  },
  {
   "cell_type": "code",
   "execution_count": null,
   "id": "14e3f704",
   "metadata": {},
   "outputs": [],
   "source": [
    "import cv2\n",
    "import numpy as np\n",
    "\n",
    "src=cv2.imread('images/candy.jpg')\n",
    "hsv=cv2.cvtColor(src,cv2.COLOR_BGR2HSV)\n",
    "\n",
    "dst1=cv2.inRange(src,(0,128,0),(100,255,100)) # 파란색과 빨간색이 적고 녹색이 많은 부분\n",
    "dst2=cv2.inRange(hsv,(50,150,0),(70,255,255)) # hsv의 녹색부분\n",
    "\n",
    "cv2.imshow('src',src)\n",
    "cv2.imshow('dst1',dst1)\n",
    "cv2.imshow('dst2',dst2)\n",
    "\n",
    "cv2.waitKey(0)\n",
    "cv2.destroyAllWindows()"
   ]
  },
  {
   "cell_type": "markdown",
   "id": "2868cf66",
   "metadata": {},
   "source": [
    "## - np.array([blue,green,red])\n",
    "#### hsv영역에서 추출하기 위한 r,g,b 각 영역의 최소값과 최대값을 정한다. \n",
    "#### OpenCV에서 H값은 0~180이므로 위 HSV 값에서 1/2를 하여야 한다.\n",
    "#### \n",
    "## - cv2.bitwise_and(src1, src2, mask)\n",
    "#### mask의 값이 0이 아닌 부분만 src1와 src2를 and 연산한다.\n",
    "#### 마스크는 cv2.inRange() 함수의 결과값이므로 흑과 백으로 이루어진 1채널 이미지이다.\n",
    "#### 즉, 0이 아닌 흰색부분만 연산을 하고 0인 검정색부분은 연산을 하지 않고 검정색 그대로 둔다.\n"
   ]
  },
  {
   "cell_type": "code",
   "execution_count": null,
   "id": "b82e3813",
   "metadata": {},
   "outputs": [],
   "source": [
    "import cv2\n",
    "import numpy as np\n",
    "\n",
    "cap=cv2.VideoCapture(0)\n",
    "\n",
    "while True:\n",
    "\n",
    "    ret, frame = cap.read()\n",
    "    hsv=cv2.cvtColor(frame, cv2.COLOR_BGR2HSV)\n",
    "    \n",
    "    L_b= np.array([110,100,100])\n",
    "    H_b= np.array([130,255,255])\n",
    "    \n",
    "    L_g= np.array([50,100,100])\n",
    "    H_g= np.array([70,255,255])\n",
    "    \n",
    "    L_r= np.array([-10,100,100])\n",
    "    H_r= np.array([10,255,255])\n",
    "    \n",
    "    mask_b=cv2.inRange(hsv, L_b, H_b)\n",
    "    mask_g=cv2.inRange(hsv, L_g, H_g)\n",
    "    mask_r=cv2.inRange(hsv, L_r, H_r)\n",
    "    \n",
    "    blue=cv2.bitwise_and(frame, frame, mask=mask_b)\n",
    "    green=cv2.bitwise_and(frame, frame, mask=mask_g)\n",
    "    red=cv2.bitwise_and(frame, frame, mask=mask_r)\n",
    "    \n",
    "    if ret:\n",
    "        cv2.imshow('original',frame)\n",
    "        cv2.imshow('blue',blue)\n",
    "        cv2.imshow('green',green)\n",
    "        cv2.imshow('red',red)\n",
    "    \n",
    "        key=cv2.waitKey(1)\n",
    "        if key==ord('q'):\n",
    "            break\n",
    "cap.release()\n",
    "cv2.destroyAllWindows()"
   ]
  },
  {
   "cell_type": "markdown",
   "id": "3eff15f8",
   "metadata": {},
   "source": [
    "## - cv2.bitwise_not(mask) \n",
    "#### 마스크한 이미지를 반전"
   ]
  },
  {
   "cell_type": "code",
   "execution_count": 2,
   "id": "8755cbee",
   "metadata": {},
   "outputs": [],
   "source": [
    "import cv2\n",
    "import numpy as np\n",
    "\n",
    "src=cv2.imread('images/candy.jpg')\n",
    "hsv=cv2.cvtColor(src,cv2.COLOR_BGR2HSV)\n",
    "\n",
    "mask=cv2.inRange(hsv,(50,150,0),(70,255,255)) # hsv의 녹색부분\n",
    "mask_inv=cv2.bitwise_not(mask)\n",
    "cv2.imshow('src',src)\n",
    "cv2.imshow('mask',mask)\n",
    "cv2.imshow('mask_inv',mask_inv)\n",
    "\n",
    "cv2.waitKey(0)\n",
    "cv2.destroyAllWindows()"
   ]
  },
  {
   "cell_type": "code",
   "execution_count": null,
   "id": "40ba9571",
   "metadata": {},
   "outputs": [],
   "source": []
  }
 ],
 "metadata": {
  "kernelspec": {
   "display_name": "Python 3",
   "language": "python",
   "name": "python3"
  },
  "language_info": {
   "codemirror_mode": {
    "name": "ipython",
    "version": 3
   },
   "file_extension": ".py",
   "mimetype": "text/x-python",
   "name": "python",
   "nbconvert_exporter": "python",
   "pygments_lexer": "ipython3",
   "version": "3.7.10"
  }
 },
 "nbformat": 4,
 "nbformat_minor": 5
}
